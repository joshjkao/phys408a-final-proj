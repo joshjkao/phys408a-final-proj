{
 "cells": [
  {
   "cell_type": "markdown",
   "metadata": {},
   "source": [
    "# Simulating the Physics of Rail Guns\n",
    "\n",
    "## Introduction\n",
    "\n",
    "From trebuchets to chemical weapons and eventually nuclear bombs, it seems that humans have learned how to weaponize nearly every physical phenomenon there is. It turns out that electromagnetism is no different, with the US Navy recently spending hundreds of millions of dollars on the development of weapons leveraging the magnetic force to launch projectiles at hypersonic speeds.\n",
    "\n",
    "These devices exploit the Lorentz Force, the force that a moving charge experiences due to an external magnetic field. The force is described by the following equation:\n",
    "\n",
    "\\begin{equation}\n",
    "F_{Lorentz} = q \\vec{v} \\times \\vec{B}\n",
    "\\end{equation}\n",
    "\n",
    "This information reveals the simplicity of the concept of a rail gun:\n",
    "\n",
    "![alt text](RailGunDiagram.jpg \"Title\")\n",
    "\n",
    "Current flows down the left rail, through the projectile, and up the right rail. The purpose of the parallel rails is to create a strong magnetic field in the space occupied by the projectile. Recall that the magnetic field of a straight wire carrying a current is:\n",
    "\n",
    "\\begin{equation}\n",
    "\\vec{B} = \\frac{\\mu_0}{2\\pi r}(\\vec{I}\\times\\hat{r})\n",
    "\\end{equation}\n",
    "\n",
    "And that the direction of this field circulates around the wire according to the right hand rule. As is visible in the diagram, the current flowing down the left rail yield a symmetric magnetic field in the region between the rails. The current through the projectile flows to the right while under the influence of a magnetic field that only has an upward component. As described by the Lorentz force described above, this will result in a magnetic force parallel to the rails.\n",
    "\n",
    "In principle, that is the extent of the physics that make rail guns possible."
   ]
  },
  {
   "cell_type": "markdown",
   "metadata": {},
   "source": [
    "## Magnetic Forces on the Projectile\n",
    "\n",
    "In this section, we analyze the magnetic field created by the current in both parallel rails. This allows us to fully determine the magnetic field acting on the projectile, and thus determine the force acting on the projectile. With further development, this could lead to further analysis of the projectile's acceleration and thus performance. For the purposes of this project, however, we consider a highly simplified model in the magnetostatic case. \n",
    "\n",
    "To model the rails, we consider two long, straight wires of negligible thickness. The projectile is modeled as a third long, straight wire running perpendicular to both. We choose the coordinate axes so that the \"left\" rail carries current in the negative x direction along the x axis, aligned with the origin. The projectile carries current in the positive y direction along the y axis for a the given projectile width. The \"right\" rail carries current in the positive x direction parallel to the \"left\" rail.\n",
    "\n",
    "The system's adjustable parameters are declared as global variables which are updated by their corresponding sliders. Functions are defined to use these parameters and return vectors representing the three currents described above."
   ]
  },
  {
   "cell_type": "code",
   "execution_count": 7,
   "metadata": {},
   "outputs": [],
   "source": [
    "import numpy as np\n",
    "import matplotlib.pyplot as plt\n",
    "from ipywidgets import interact, widgets\n",
    "\n",
    "dist_btwn_wires = 3\n",
    "I = 1\n",
    "ILeft = np.array([-I, 0, 0])\n",
    "IRight = np.array([I, 0, 0])\n",
    "IProj = [0,I,0]\n",
    "rail_length = 4\n",
    "\n",
    "def updateCurrent(i_):\n",
    "    global ILeft, IRight, IProj\n",
    "    ILeft = np.array([-i_,0,0])\n",
    "    IRight = np.array([i_,0,0])\n",
    "    IProj = np.array([0,i_,0])\n",
    "\n",
    "# Left Rail\n",
    "def BFieldLeft(r: np.array) -> np.array:\n",
    "    reff = np.array([0,r[1],r[2]])\n",
    "    rnorm = np.linalg.norm(reff)\n",
    "    if rnorm == 0:\n",
    "        return np.array([0,0,0])\n",
    "    rhat = np.divide(reff, rnorm)\n",
    "    return np.cross(ILeft, rhat) / rnorm\n",
    "\n",
    "# Right Rail\n",
    "def BFieldRight(r: np.array) -> np.array:\n",
    "    reff = np.array([0,r[1]-dist_btwn_wires,r[2]])\n",
    "    rnorm = np.linalg.norm(reff)\n",
    "    if rnorm == 0:\n",
    "        return np.array([0,0,0])\n",
    "    rhat = np.divide(reff, rnorm)\n",
    "    return np.cross(IRight, rhat) / rnorm\n",
    "\n",
    "# Projectile\n",
    "def BFieldProj(r: np.array) -> np.array:\n",
    "    reff = np.array([r[0],0,0])\n",
    "    rnorm = np.linalg.norm(reff)\n",
    "    if rnorm == 0:\n",
    "        return np.array([0,0,0])\n",
    "    rhat = np.divide(reff, rnorm)\n",
    "    return np.cross(IProj, rhat) / rnorm"
   ]
  },
  {
   "cell_type": "markdown",
   "metadata": {},
   "source": [
    "Using these functions, we can visually reveal the magnetic field due to the current through both rails. In the plot below, the \"left\" rail carries current into the page, while the \"right\" rail carries current out of the page. Combined, they create a magnetic field that only has a negative z component in the plane between them."
   ]
  },
  {
   "cell_type": "code",
   "execution_count": 8,
   "metadata": {},
   "outputs": [
    {
     "data": {
      "application/vnd.jupyter.widget-view+json": {
       "model_id": "858976b4748246aa8a7a9ceb8f440505",
       "version_major": 2,
       "version_minor": 0
      },
      "text/plain": [
       "interactive(children=(FloatSlider(value=3.0, description='Rail Distance:', max=5.0, min=1.0), FloatSlider(valu…"
      ]
     },
     "metadata": {},
     "output_type": "display_data"
    },
    {
     "data": {
      "text/plain": [
       "<function __main__.plotRailBField(d_: float, i_)>"
      ]
     },
     "execution_count": 8,
     "metadata": {},
     "output_type": "execute_result"
    }
   ],
   "source": [
    "def plotRailBField(d_: float, i_):\n",
    "    global dist_btwn_wires\n",
    "    dist_btwn_wires = d_\n",
    "    updateCurrent(i_)\n",
    "    \n",
    "    yrange = np.linspace(-1, dist_btwn_wires+1, 10)\n",
    "    zrange = np.linspace(-dist_btwn_wires/2, dist_btwn_wires/2, 10)\n",
    "    y = []\n",
    "    z = []\n",
    "    u = []\n",
    "    v = []\n",
    "\n",
    "    for j in yrange:\n",
    "        for k in zrange:\n",
    "            Batjk = np.add(BFieldLeft([0,j,k]), BFieldRight([0,j,k]))\n",
    "            y.append(j)\n",
    "            z.append(k)\n",
    "            u.append(Batjk[1])\n",
    "            v.append(Batjk[2])\n",
    "            \n",
    "    plt.quiver(y, z, u, v)\n",
    "    plt.title(\"Magnetic field y-z plane cross section\")\n",
    "    plt.xlabel(\"y\")\n",
    "    plt.ylabel(\"z\")\n",
    "    plt.show()\n",
    "    \n",
    "rail_dist_slider = widgets.FloatSlider(value=3.0, min=1.0, max=5.0, step=.1, description=\"Rail Distance:\")\n",
    "rail_length_slider = widgets.FloatSlider(value=3.0, min=1.0, max=5.0, step=.1, description=\"Rail Length:\")\n",
    "current_slider = widgets.FloatSlider(value=1.0, min=.1, max=5.0, step=.1, description=\"I:\")\n",
    "interact(plotRailBField, d_=rail_dist_slider, i_=current_slider)"
   ]
  },
  {
   "cell_type": "markdown",
   "metadata": {},
   "source": [
    "We can use the numerical values of the magnetic field due to both rails combined with the known current running through the projectile to calculate what the force would be at many points on the projectile. \n",
    "\n",
    "It is important to note now that all units shown in the plots in this project are arbitrary, and most constants have been omitted for easier readability. Instead, the main goal of this project is to analyze how changing certain parameters might affect the behavior of the system. For example, try to move the sliders and see if rail distance or current is more important for maximizing the force on the projectile. \n",
    "\n",
    "For the same reasoning, although we have calculated the force on the projectile at many different \"slices,\" and it would be easy to perform an integration to calculate the total force on the projectile, having this number would not be too helpful. Due to the fact our \"rails\" are modeled as long wires, the magnetic field at a point close to the wire approaces infinity. Thus, the actual value of the force in this model is always infinite due to how we simplified the geometry."
   ]
  },
  {
   "cell_type": "code",
   "execution_count": 9,
   "metadata": {},
   "outputs": [
    {
     "data": {
      "application/vnd.jupyter.widget-view+json": {
       "model_id": "0c3fac62f3f748869957e6ebd5ba9c68",
       "version_major": 2,
       "version_minor": 0
      },
      "text/plain": [
       "interactive(children=(FloatSlider(value=3.0, description='Rail Distance:', max=5.0, min=1.0), FloatSlider(valu…"
      ]
     },
     "metadata": {},
     "output_type": "display_data"
    },
    {
     "data": {
      "text/plain": [
       "<function __main__.plotProjectileInfo(d_, i_)>"
      ]
     },
     "execution_count": 9,
     "metadata": {},
     "output_type": "execute_result"
    }
   ],
   "source": [
    "# Due to symmetry, the field on the wire only has a y component\n",
    "def BFieldOnProjectile(r: float) -> np.array:\n",
    "    return np.add(BFieldLeft([0,r,0]), BFieldRight([0,r,0]))\n",
    "\n",
    "def plotProjectileInfo(d_, i_):\n",
    "    global dist_btwn_wires\n",
    "    dist_btwn_wires = d_\n",
    "    updateCurrent(i_)\n",
    "    \n",
    "    slices = 100\n",
    "    step = dist_btwn_wires/slices\n",
    "    r = np.linspace(0, dist_btwn_wires, slices)\n",
    "    b = [np.linalg.norm(BFieldOnProjectile(i)) for i in r] \n",
    "\n",
    "    plt.plot(r, b)\n",
    "    plt.title(\"Magnetic field magnitude on projectile\")\n",
    "    plt.xlabel(\"r\")\n",
    "    plt.show()\n",
    "\n",
    "    f = [np.linalg.norm(np.cross(BFieldOnProjectile(i), IProj)) for i in r]\n",
    "    plt.plot(r, f)\n",
    "    plt.title(\"Force on the projectile\")\n",
    "    plt.xlabel(\"r\")\n",
    "    plt.show()\n",
    "\n",
    "    F_total = 0\n",
    "    for f_r in f:\n",
    "        F_total += f_r * step\n",
    "\n",
    "interact(plotProjectileInfo, d_=rail_dist_slider, i_=current_slider)"
   ]
  },
  {
   "cell_type": "markdown",
   "metadata": {},
   "source": [
    "## Repulsion: Why did the rail gun fail?\n",
    "\n",
    "I mentioned that the US Navy recently spent vast amounts of money developing rail gun technology, but that wasn't the whole truth. Since then, the Navy has suspended the development of these devices due to the technological difficulty. There are several challenges that make rail guns impractical, for example the fact that the immense current causes the rails to melt and wear extremely fast. However, a more interesting challenge from the perspective of magnetostatics is the phenomenon of repulsion.\n",
    "\n",
    "Just as the current through the rails creates a force pushing the projectile forward, the current through the projectile should also create a force pushing both rails outward. Furthermore, both rails carry high current in stright lines but opposite directions, which also creates a force pushing the rails apart. When combined, the repulsion between the rails is speculated to be a large contributing factor in why the rail gun failed. \n",
    "\n",
    "First, the same functions defined above can be used to graphically show the force on each rail due to the opposing currents:"
   ]
  },
  {
   "cell_type": "code",
   "execution_count": 10,
   "metadata": {},
   "outputs": [
    {
     "data": {
      "application/vnd.jupyter.widget-view+json": {
       "model_id": "16451018246a410eb42666dbf0bc1d0f",
       "version_major": 2,
       "version_minor": 0
      },
      "text/plain": [
       "interactive(children=(FloatSlider(value=3.0, description='Rail Distance:', max=5.0, min=1.0), FloatSlider(valu…"
      ]
     },
     "metadata": {},
     "output_type": "display_data"
    },
    {
     "data": {
      "text/plain": [
       "<function __main__.plotOpposingCurrentForces(d_, l_, i_)>"
      ]
     },
     "execution_count": 10,
     "metadata": {},
     "output_type": "execute_result"
    }
   ],
   "source": [
    "def plotOpposingCurrentForces(d_, l_, i_):\n",
    "    global dist_btwn_wires, rail_length\n",
    "    dist_btwn_wires = d_\n",
    "    rail_length = l_\n",
    "    updateCurrent(i_)\n",
    "    \n",
    "    x = []\n",
    "    y = []\n",
    "    u = []\n",
    "    v = []\n",
    "\n",
    "    xrange = np.linspace(rail_length, 0, 20)\n",
    "    yrange = np.linspace(0, 0, 10)\n",
    "    for i in xrange:\n",
    "        for j in yrange:\n",
    "            Fatxy = np.cross(ILeft,BFieldRight([i,j,0]))\n",
    "            x.append(i)\n",
    "            y.append(j)\n",
    "            u.append(Fatxy[0])\n",
    "            v.append(Fatxy[1])\n",
    "            \n",
    "    xrange = np.linspace(rail_length, 0, 20)\n",
    "    yrange = np.linspace(dist_btwn_wires, dist_btwn_wires, 10)\n",
    "    for i in xrange:\n",
    "        for j in yrange:\n",
    "            Fatxy = np.cross(IRight,BFieldLeft([i,j,0]))\n",
    "            x.append(i)\n",
    "            y.append(j)\n",
    "            u.append(Fatxy[0])\n",
    "            v.append(Fatxy[1])\n",
    "            \n",
    "    plt.quiver(x, y, u, v)\n",
    "    plt.ylim(-1,dist_btwn_wires+1)\n",
    "    plt.title(\"Force on rails due to opposing currents\")\n",
    "    plt.xlabel(\"x\")\n",
    "    plt.ylabel(\"y\")\n",
    "    plt.show()\n",
    "    \n",
    "interact(plotOpposingCurrentForces, d_=rail_dist_slider, l_=rail_length_slider,i_=current_slider)"
   ]
  },
  {
   "cell_type": "markdown",
   "metadata": {},
   "source": [
    "Next, the same information can be used to show the forces due to the projectile's magnetic field acting on the current through both rails.\n",
    "\n",
    "It is important to note that, here, we expect our results to deviate dramatically from what might actually be expected in reality. This is because we are again modeling the projectile's magnetic field with the form it would be if it was a long, straight wire. In reality, rail gun projectiles have much smaller widths compared to the length of the rails, and the current-carrying element inside the projectile will be curved so as to counteract this effect. Nevertheless, we can gain some intuition with our simplified geometry."
   ]
  },
  {
   "cell_type": "code",
   "execution_count": 11,
   "metadata": {},
   "outputs": [
    {
     "data": {
      "application/vnd.jupyter.widget-view+json": {
       "model_id": "fcd6c76a7dbf497e88eda2295a56d89d",
       "version_major": 2,
       "version_minor": 0
      },
      "text/plain": [
       "interactive(children=(FloatSlider(value=3.0, description='Rail Distance:', max=5.0, min=1.0), FloatSlider(valu…"
      ]
     },
     "metadata": {},
     "output_type": "display_data"
    },
    {
     "data": {
      "text/plain": [
       "<function __main__.plotProjectileRepulsionForce(d_, l_, i_)>"
      ]
     },
     "execution_count": 11,
     "metadata": {},
     "output_type": "execute_result"
    }
   ],
   "source": [
    "def plotProjectileRepulsionForce(d_, l_, i_):\n",
    "    global dist_btwn_wires, rail_length\n",
    "    dist_btwn_wires = d_\n",
    "    rail_length = l_\n",
    "    updateCurrent(i_)\n",
    "    x = []\n",
    "    y = []\n",
    "    u = []\n",
    "    v = []\n",
    "\n",
    "    xrange = np.linspace(rail_length, 0, 20)\n",
    "    yrange = np.linspace(0, 0, 10)\n",
    "    for i in xrange:\n",
    "        for j in yrange:\n",
    "            Fatxy = np.cross(ILeft,BFieldProj([i,j,0]))\n",
    "            x.append(i)\n",
    "            y.append(j)\n",
    "            u.append(Fatxy[0])\n",
    "            v.append(Fatxy[1])\n",
    "            \n",
    "    xrange = np.linspace(rail_length, 0, 20)\n",
    "    yrange = np.linspace(dist_btwn_wires, dist_btwn_wires, 10)\n",
    "    for i in xrange:\n",
    "        for j in yrange:\n",
    "            Fatxy = np.cross(IRight,BFieldProj([i,j,0]))\n",
    "            x.append(i)\n",
    "            y.append(j)\n",
    "            u.append(Fatxy[0])\n",
    "            v.append(Fatxy[1])\n",
    "\n",
    "    plt.quiver(x, y, u, v)\n",
    "    plt.ylim(-1,dist_btwn_wires+1)\n",
    "    plt.title(\"Force on rails due to projectile magnetic field\")\n",
    "    plt.xlabel(\"x\")\n",
    "    plt.ylabel(\"y\")\n",
    "    plt.show()\n",
    "    \n",
    "interact(plotProjectileRepulsionForce, d_=rail_dist_slider, l_=rail_length_slider,i_=current_slider)"
   ]
  },
  {
   "cell_type": "code",
   "execution_count": 12,
   "metadata": {},
   "outputs": [
    {
     "data": {
      "application/vnd.jupyter.widget-view+json": {
       "model_id": "02c9eca3fa7242a19508fc6e58d16533",
       "version_major": 2,
       "version_minor": 0
      },
      "text/plain": [
       "interactive(children=(FloatSlider(value=3.0, description='Rail Distance:', max=5.0, min=1.0), FloatSlider(valu…"
      ]
     },
     "metadata": {},
     "output_type": "display_data"
    },
    {
     "data": {
      "text/plain": [
       "<function __main__.calcTotalRailRepulsion(d_, l_, i_)>"
      ]
     },
     "execution_count": 12,
     "metadata": {},
     "output_type": "execute_result"
    }
   ],
   "source": [
    "def calcTotalRailRepulsion(d_, l_, i_):\n",
    "    global dist_btwn_wires, rail_length\n",
    "    dist_btwn_wires = d_\n",
    "    rail_length = l_\n",
    "    updateCurrent(i_)\n",
    "\n",
    "    x = np.linspace(rail_length, 0, 100)\n",
    "    y = [np.linalg.norm(np.cross(ILeft,BFieldProj([i,0,0]))) + np.linalg.norm(np.cross(ILeft,BFieldRight([i,0,0]))) for i in x]\n",
    "\n",
    "    plt.plot(x, y)\n",
    "    plt.show()\n",
    "    \n",
    "interact(calcTotalRailRepulsion, d_=rail_dist_slider, l_=rail_length_slider,i_=current_slider)"
   ]
  },
  {
   "cell_type": "markdown",
   "metadata": {},
   "source": [
    "## Final Remarks\n",
    "\n",
    "While the physics driving the rail gun are simple on first glance, simulating them accurately is no easy feat. The visualizations given in this project are based off of highly simplified geometry, so the values produced are really not useful for anything besides comparing to each other. A more accurate simulation of this system would likely have to discretize the current at every point into small moving charges, so that the magnetic field due to each individual current element could be summed up to create a better picture of the actual fields at play. This would require significantly more development and computing time that might not be suitable for interactive plots such as in Jupyter Notebook, but the results would likely be far more accurate."
   ]
  }
 ],
 "metadata": {
  "interpreter": {
   "hash": "b0fa6594d8f4cbf19f97940f81e996739fb7646882a419484c72d19e05852a7e"
  },
  "kernelspec": {
   "display_name": "Python 3.11.5 64-bit",
   "language": "python",
   "name": "python3"
  },
  "language_info": {
   "codemirror_mode": {
    "name": "ipython",
    "version": 3
   },
   "file_extension": ".py",
   "mimetype": "text/x-python",
   "name": "python",
   "nbconvert_exporter": "python",
   "pygments_lexer": "ipython3",
   "version": "3.11.5"
  },
  "orig_nbformat": 4
 },
 "nbformat": 4,
 "nbformat_minor": 2
}
